{
 "cells": [
  {
   "cell_type": "markdown",
   "id": "c7a0c43b-756f-46a6-8904-0a5d16bce3ff",
   "metadata": {},
   "source": [
    "- Hello how are you\n",
    "\n",
    "- I am learning Git hub"
   ]
  },
  {
   "cell_type": "markdown",
   "id": "ceb0c70b-2335-4962-b0ab-893346110d7d",
   "metadata": {},
   "source": [
    "- Hello how are you\n",
    "\n",
    "- Git hub session"
   ]
  },
  {
   "cell_type": "code",
   "execution_count": null,
   "id": "d7f45ee6-426a-44f4-8da1-902622aa052b",
   "metadata": {},
   "outputs": [],
   "source": [
    "try:\n",
    "    <Your logic>\n",
    "except Exception as e:\n",
    "    <catch the error>"
   ]
  },
  {
   "cell_type": "code",
   "execution_count": 1,
   "id": "09f18419-3971-4c8b-ac91-b2d7ad02bc9d",
   "metadata": {},
   "outputs": [],
   "source": [
    "a=10"
   ]
  },
  {
   "cell_type": "code",
   "execution_count": 5,
   "id": "a2b7c005-9ea1-46a7-b03f-04f9e0083015",
   "metadata": {},
   "outputs": [
    {
     "name": "stdin",
     "output_type": "stream",
     "text": [
      "Enetr a number num1:  10\n",
      "Enetr a number num2:  0\n"
     ]
    },
    {
     "ename": "ZeroDivisionError",
     "evalue": "division by zero",
     "output_type": "error",
     "traceback": [
      "\u001b[1;31m---------------------------------------------------------------------------\u001b[0m",
      "\u001b[1;31mZeroDivisionError\u001b[0m                         Traceback (most recent call last)",
      "Cell \u001b[1;32mIn[5], line 3\u001b[0m\n\u001b[0;32m      1\u001b[0m num1 \u001b[38;5;241m=\u001b[39m \u001b[38;5;28meval\u001b[39m(\u001b[38;5;28minput\u001b[39m(\u001b[38;5;124m\"\u001b[39m\u001b[38;5;124mEnetr a number num1: \u001b[39m\u001b[38;5;124m\"\u001b[39m))\n\u001b[0;32m      2\u001b[0m num2 \u001b[38;5;241m=\u001b[39m \u001b[38;5;28meval\u001b[39m(\u001b[38;5;28minput\u001b[39m(\u001b[38;5;124m\"\u001b[39m\u001b[38;5;124mEnetr a number num2: \u001b[39m\u001b[38;5;124m\"\u001b[39m))\n\u001b[1;32m----> 3\u001b[0m div \u001b[38;5;241m=\u001b[39m num1\u001b[38;5;241m/\u001b[39mnum2\n\u001b[0;32m      4\u001b[0m \u001b[38;5;28mprint\u001b[39m(div)\n",
      "\u001b[1;31mZeroDivisionError\u001b[0m: division by zero"
     ]
    }
   ],
   "source": [
    "num1 = eval(input(\"Enetr a number num1: \"))\n",
    "num2 = eval(input(\"Enetr a number num2: \"))\n",
    "div = num1/num2\n",
    "print(div)\n"
   ]
  },
  {
   "cell_type": "code",
   "execution_count": 27,
   "id": "981c0c59-a338-454a-bd9f-a8df60787332",
   "metadata": {},
   "outputs": [
    {
     "name": "stdin",
     "output_type": "stream",
     "text": [
      "Enetr a number num1:  10\n",
      "Enter a number num2:  20\n"
     ]
    },
    {
     "name": "stdout",
     "output_type": "stream",
     "text": [
      "0.5\n",
      "30\n"
     ]
    }
   ],
   "source": [
    "try:\n",
    "    num1 = eval(input(\"Enetr a number num1: \"))\n",
    "    num2 = eval(input(\"Enter a number num2: \"))\n",
    "    div = num1/num2\n",
    "    print(div)\n",
    "    a=10\n",
    "    b=20\n",
    "    c=a+b\n",
    "    print(c)\n",
    "except Exception as e:\n",
    "    print(e)"
   ]
  },
  {
   "cell_type": "code",
   "execution_count": 17,
   "id": "48adc312-fccf-4ed8-abd8-a83ed244e57e",
   "metadata": {},
   "outputs": [
    {
     "name": "stdin",
     "output_type": "stream",
     "text": [
      "Enetr a number num1:  10\n",
      "Enetr a number num2:  0\n"
     ]
    },
    {
     "ename": "ZeroDivisionError",
     "evalue": "division by zero",
     "output_type": "error",
     "traceback": [
      "\u001b[1;31m---------------------------------------------------------------------------\u001b[0m",
      "\u001b[1;31mZeroDivisionError\u001b[0m                         Traceback (most recent call last)",
      "Cell \u001b[1;32mIn[17], line 3\u001b[0m\n\u001b[0;32m      1\u001b[0m num1 \u001b[38;5;241m=\u001b[39m \u001b[38;5;28meval\u001b[39m(\u001b[38;5;28minput\u001b[39m(\u001b[38;5;124m\"\u001b[39m\u001b[38;5;124mEnetr a number num1: \u001b[39m\u001b[38;5;124m\"\u001b[39m))\n\u001b[0;32m      2\u001b[0m num2 \u001b[38;5;241m=\u001b[39m \u001b[38;5;28meval\u001b[39m(\u001b[38;5;28minput\u001b[39m(\u001b[38;5;124m\"\u001b[39m\u001b[38;5;124mEnetr a number num2: \u001b[39m\u001b[38;5;124m\"\u001b[39m))\n\u001b[1;32m----> 3\u001b[0m div \u001b[38;5;241m=\u001b[39m num1\u001b[38;5;241m/\u001b[39mnum2\n\u001b[0;32m      4\u001b[0m \u001b[38;5;28mprint\u001b[39m(div)\n\u001b[0;32m      5\u001b[0m a\u001b[38;5;241m=\u001b[39m\u001b[38;5;241m10\u001b[39m\n",
      "\u001b[1;31mZeroDivisionError\u001b[0m: division by zero"
     ]
    }
   ],
   "source": [
    "num1 = eval(input(\"Enetr a number num1: \"))\n",
    "num2 = eval(input(\"Enetr a number num2: \"))\n",
    "div = num1/num2\n",
    "print(div)\n"
   ]
  },
  {
   "cell_type": "code",
   "execution_count": null,
   "id": "a31276da-3192-4c82-bdb4-8d52c4624c38",
   "metadata": {},
   "outputs": [],
   "source": []
  }
 ],
 "metadata": {
  "kernelspec": {
   "display_name": "Python [conda env:base] *",
   "language": "python",
   "name": "conda-base-py"
  },
  "language_info": {
   "codemirror_mode": {
    "name": "ipython",
    "version": 3
   },
   "file_extension": ".py",
   "mimetype": "text/x-python",
   "name": "python",
   "nbconvert_exporter": "python",
   "pygments_lexer": "ipython3",
   "version": "3.12.7"
  }
 },
 "nbformat": 4,
 "nbformat_minor": 5
}
